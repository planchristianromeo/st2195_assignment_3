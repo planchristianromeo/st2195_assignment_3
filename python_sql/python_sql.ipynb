{
 "cells": [
  {
   "cell_type": "code",
   "execution_count": 1,
   "id": "signed-rapid",
   "metadata": {},
   "outputs": [],
   "source": [
    "import os\n",
    "import numpy as np\n",
    "import pandas as pd\n",
    "import sqlite3\n",
    "import bz2\n",
    "import csv"
   ]
  },
  {
   "cell_type": "code",
   "execution_count": 2,
   "id": "elegant-cincinnati",
   "metadata": {},
   "outputs": [],
   "source": [
    "# Create the database\n",
    "plane = sqlite3.connect('python_airline.db')\n",
    "\n",
    "# cursor object to execute SQLite command/queries from Python.\n",
    "c = plane.cursor()"
   ]
  },
  {
   "cell_type": "code",
   "execution_count": 3,
   "id": "fantastic-namibia",
   "metadata": {},
   "outputs": [],
   "source": [
    "ontime_2000 = pd.read_csv('../Datasets/2000.csv.bz2', encoding='latin-1')\n",
    "ontime_2001 = pd.read_csv('../Datasets/2001.csv.bz2', encoding='latin-1')\n",
    "ontime_2002 = pd.read_csv('../Datasets/2002.csv.bz2', encoding='latin-1')\n",
    "ontime_2003 = pd.read_csv('../Datasets/2003.csv.bz2', encoding='latin-1')\n",
    "ontime_2004 = pd.read_csv('../Datasets/2004.csv.bz2', encoding='latin-1')\n",
    "ontime_2005 = pd.read_csv('../Datasets/2005.csv.bz2', encoding='latin-1')"
   ]
  },
  {
   "cell_type": "code",
   "execution_count": 7,
   "id": "opposite-emerald",
   "metadata": {},
   "outputs": [],
   "source": [
    "ontime_1 = pd.concat([ontime_2000, ontime_2001], ignore_index=True)\n",
    "ontime_2 = pd.concat([ontime_1, ontime_2002], ignore_index=True)\n",
    "ontime_3 = pd.concat([ontime_2, ontime_2003], ignore_index=True)\n",
    "ontime_4 = pd.concat([ontime_3, ontime_2004], ignore_index=True)\n",
    "ontime = pd.concat([ontime_4, ontime_2005], ignore_index=True)"
   ]
  },
  {
   "cell_type": "code",
   "execution_count": 4,
   "id": "weekly-bookmark",
   "metadata": {},
   "outputs": [],
   "source": [
    "carrier_df = pd.read_csv('../Datasets/carriers.csv')\n",
    "airport_df = pd.read_csv('../Datasets/airports.csv')\n",
    "plane_df = pd.read_csv('../Datasets/plane-data.csv')"
   ]
  },
  {
   "cell_type": "code",
   "execution_count": 7,
   "id": "lined-principal",
   "metadata": {
    "scrolled": true
   },
   "outputs": [],
   "source": [
    "# Run it only once because if you run it again, it will replace your table.\n",
    "# Transfer to the database\n",
    "carrier_df.to_sql('carriers', con = plane, index = False)\n",
    "airport_df.to_sql('airports', con = plane, index = False)\n",
    "plane_df.to_sql('plane', con = plane, index = False)\n",
    "ontime_2000.to_sql('ontime', con = plane, index = False)"
   ]
  },
  {
   "cell_type": "markdown",
   "id": "fallen-brunswick",
   "metadata": {},
   "source": [
    "#### Question 1"
   ]
  },
  {
   "cell_type": "code",
   "execution_count": 25,
   "id": "retained-essence",
   "metadata": {},
   "outputs": [],
   "source": [
    "q1 = c.execute('''SELECT TailNum, AVG(DepDelay) as Ave_Delay FROM ontime  \n",
    "                    WHERE Cancelled = 0  \n",
    "                    AND Diverted = 0  \n",
    "                    GROUP BY tailnum  \n",
    "                    HAVING AVG(DepDelay) > 0  \n",
    "                    ORDER BY Ave_Delay''').fetchall()\n",
    "q1 = pd.DataFrame(q2)\n",
    "q1.columns = ['TailNum','Average_Delay']\n",
    "q1.to_csv('../python_sql/python_q1.csv', index=False)"
   ]
  },
  {
   "cell_type": "markdown",
   "id": "micro-collaboration",
   "metadata": {},
   "source": [
    "#### Question 2"
   ]
  },
  {
   "cell_type": "code",
   "execution_count": 24,
   "id": "worth-nevada",
   "metadata": {},
   "outputs": [],
   "source": [
    "q2 = c.execute('''SELECT Dest, COUNT(Dest) AS number_of_In_Flights FROM ontime  \n",
    "                WHERE Cancelled = 0  \n",
    "                GROUP BY Dest  \n",
    "                ORDER BY number_of_In_Flights DESC''').fetchall()\n",
    "q2 = pd.DataFrame(q2)\n",
    "q2.columns = ['States', 'Total_Flights']\n",
    "q2.to_csv('../python_sql/python_q2.csv', index=False)"
   ]
  },
  {
   "cell_type": "markdown",
   "id": "offensive-swaziland",
   "metadata": {},
   "source": [
    "#### Question 3"
   ]
  },
  {
   "cell_type": "code",
   "execution_count": 23,
   "id": "independent-joyce",
   "metadata": {
    "scrolled": false
   },
   "outputs": [],
   "source": [
    "q3 = c.execute('''SELECT o.UniqueCarrier, c.Description, sum(Cancelled) AS total_cancelled   \n",
    "                FROM ontime o  \n",
    "                LEFT JOIN carriers c ON o.UniqueCarrier = c.Code  \n",
    "                GROUP BY o.UniqueCarrier  \n",
    "                ORDER BY total_cancelled''').fetchall()\n",
    "q3 = pd.DataFrame(q3)\n",
    "q3.columns = ['Unique_Carrier','Description','Total_Cancelled_Flights']\n",
    "q3.to_csv('../python_sql/python_q3.csv', index=False)"
   ]
  },
  {
   "cell_type": "markdown",
   "id": "combined-learning",
   "metadata": {},
   "source": [
    "#### Question 4"
   ]
  },
  {
   "cell_type": "code",
   "execution_count": 26,
   "id": "prescribed-salon",
   "metadata": {},
   "outputs": [],
   "source": [
    "q4 = c.execute('''SELECT UniqueCarrier, c.Description, count(UniqueCarrier) AS total_flights, sum(cancelled) AS total_cancelled_flights,  \n",
    "            (CAST(count(UniqueCarrier) as FLOAT)/ CAST(sum(cancelled) AS FLOAT)) AS ratio \n",
    "            FROM ontime o \n",
    "            \n",
    "            JOIN carriers c ON o.UniqueCarrier = c.Code \n",
    "            GROUP BY UniqueCarrier \n",
    "            ORDER BY ratio''').fetchall()\n",
    "q4 = pd.DataFrame(q4)\n",
    "q4.columns = ['Unique_Carrier','Description','Total_Flights','Total_Cancelled_Flights','Ratio']\n",
    "q4.to_csv('../python_sql/python_q4.csv', index=False)"
   ]
  },
  {
   "cell_type": "code",
   "execution_count": null,
   "id": "funny-climate",
   "metadata": {},
   "outputs": [],
   "source": []
  },
  {
   "cell_type": "code",
   "execution_count": null,
   "id": "alien-shopping",
   "metadata": {},
   "outputs": [],
   "source": []
  },
  {
   "cell_type": "code",
   "execution_count": null,
   "id": "acquired-worship",
   "metadata": {},
   "outputs": [],
   "source": []
  }
 ],
 "metadata": {
  "kernelspec": {
   "display_name": "Python 3",
   "language": "python",
   "name": "python3"
  },
  "language_info": {
   "codemirror_mode": {
    "name": "ipython",
    "version": 3
   },
   "file_extension": ".py",
   "mimetype": "text/x-python",
   "name": "python",
   "nbconvert_exporter": "python",
   "pygments_lexer": "ipython3",
   "version": "3.8.5"
  }
 },
 "nbformat": 4,
 "nbformat_minor": 5
}
